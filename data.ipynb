{
 "cells": [
  {
   "cell_type": "markdown",
   "metadata": {},
   "source": [
    "## Basic Graph containing Passes Data \n",
    "Here I will be testing the API from statsbombpy. "
   ]
  },
  {
   "cell_type": "code",
   "execution_count": 40,
   "metadata": {},
   "outputs": [],
   "source": [
    "# imports \n",
    "import matplotlib.pyplot as plt\n",
    "import pandas as pd\n",
    "import numpy as np"
   ]
  },
  {
   "cell_type": "markdown",
   "metadata": {},
   "source": [
    "Here Comes the data from leagues:"
   ]
  },
  {
   "cell_type": "code",
   "execution_count": 2,
   "metadata": {},
   "outputs": [],
   "source": [
    "from statsbombpy import sb"
   ]
  },
  {
   "cell_type": "code",
   "execution_count": 16,
   "metadata": {},
   "outputs": [],
   "source": [
    "data = {\n",
    "    'x': [2010, 2015, 2020, 2025, 2030],\n",
    "    'y': [1, 2, 3, 4, 5]\n",
    "}"
   ]
  },
  {
   "cell_type": "code",
   "execution_count": 17,
   "metadata": {},
   "outputs": [
    {
     "name": "stdout",
     "output_type": "stream",
     "text": [
      "{'x': [2010, 2015, 2020, 2025, 2030], 'y': [1, 2, 3, 4, 5]}\n"
     ]
    }
   ],
   "source": [
    "print(data)"
   ]
  },
  {
   "cell_type": "markdown",
   "metadata": {},
   "source": [
    "#### Let's Graph the data"
   ]
  },
  {
   "cell_type": "code",
   "execution_count": 4,
   "metadata": {},
   "outputs": [
    {
     "name": "stderr",
     "output_type": "stream",
     "text": [
      "c:\\Users\\user\\anaconda3\\Lib\\site-packages\\statsbombpy\\api_client.py:21: NoAuthWarning: credentials were not supplied. open data access only\n",
      "  warnings.warn(\n"
     ]
    },
    {
     "name": "stdout",
     "output_type": "stream",
     "text": [
      "    competition_id  season_id   country_name    competition_name  \\\n",
      "0                9         27        Germany       1. Bundesliga   \n",
      "1               16          4         Europe    Champions League   \n",
      "2               16          1         Europe    Champions League   \n",
      "3               16          2         Europe    Champions League   \n",
      "4               16         27         Europe    Champions League   \n",
      "..             ...        ...            ...                 ...   \n",
      "60              12         86          Italy             Serie A   \n",
      "61              55         43         Europe           UEFA Euro   \n",
      "62              35         75         Europe  UEFA Europa League   \n",
      "63              53        106         Europe   UEFA Women's Euro   \n",
      "64              72         30  International   Women's World Cup   \n",
      "\n",
      "   competition_gender  competition_youth  competition_international  \\\n",
      "0                male              False                      False   \n",
      "1                male              False                      False   \n",
      "2                male              False                      False   \n",
      "3                male              False                      False   \n",
      "4                male              False                      False   \n",
      "..                ...                ...                        ...   \n",
      "60               male              False                      False   \n",
      "61               male              False                       True   \n",
      "62               male              False                      False   \n",
      "63             female              False                       True   \n",
      "64             female              False                       True   \n",
      "\n",
      "   season_name               match_updated           match_updated_360  \\\n",
      "0    2015/2016  2023-07-25T10:28:52.038697                        None   \n",
      "1    2018/2019  2023-03-07T12:20:48.118250     2021-06-13T16:17:31.694   \n",
      "2    2017/2018  2021-08-27T11:26:39.802832     2021-06-13T16:17:31.694   \n",
      "3    2016/2017  2021-08-27T11:26:39.802832     2021-06-13T16:17:31.694   \n",
      "4    2015/2016  2021-08-27T11:26:39.802832     2021-06-13T16:17:31.694   \n",
      "..         ...                         ...                         ...   \n",
      "60   1986/1987  2023-06-18T01:55:53.343752                        None   \n",
      "61        2020  2023-02-24T21:26:47.128979  2023-04-27T22:38:34.970148   \n",
      "62   1988/1989  2023-06-18T19:28:39.443883     2021-06-13T16:17:31.694   \n",
      "63        2022  2023-07-17T21:19:03.032991  2023-07-17T21:21:56.497106   \n",
      "64        2019  2023-07-27T10:33:48.273734     2021-06-13T16:17:31.694   \n",
      "\n",
      "           match_available_360             match_available  \n",
      "0                         None  2023-07-25T10:28:52.038697  \n",
      "1                         None  2023-03-07T12:20:48.118250  \n",
      "2                         None  2021-01-23T21:55:30.425330  \n",
      "3                         None            2020-07-29T05:00  \n",
      "4                         None            2020-07-29T05:00  \n",
      "..                         ...                         ...  \n",
      "60                        None  2023-06-18T01:55:53.343752  \n",
      "61  2023-04-27T22:38:34.970148  2023-02-24T21:26:47.128979  \n",
      "62                        None  2023-06-18T19:28:39.443883  \n",
      "63  2023-07-17T21:21:56.497106  2023-07-17T21:19:03.032991  \n",
      "64                        None  2023-07-27T10:33:48.273734  \n",
      "\n",
      "[65 rows x 12 columns]\n"
     ]
    }
   ],
   "source": [
    "competitions = sb.competitions()\n",
    "print(competitions)"
   ]
  },
  {
   "cell_type": "markdown",
   "metadata": {},
   "source": [
    "## Matches of the World Cup: "
   ]
  },
  {
   "cell_type": "code",
   "execution_count": 66,
   "metadata": {},
   "outputs": [
    {
     "name": "stderr",
     "output_type": "stream",
     "text": [
      "c:\\Users\\user\\anaconda3\\Lib\\site-packages\\statsbombpy\\api_client.py:21: NoAuthWarning: credentials were not supplied. open data access only\n",
      "  warnings.warn(\n"
     ]
    },
    {
     "name": "stdout",
     "output_type": "stream",
     "text": [
      "    match_id  match_date      kick_off                     competition season  \\\n",
      "0    3857256  2022-12-02  21:00:00.000  International - FIFA World Cup   2022   \n",
      "1    3869151  2022-12-03  21:00:00.000  International - FIFA World Cup   2022   \n",
      "2    3857257  2022-11-30  17:00:00.000  International - FIFA World Cup   2022   \n",
      "3    3857258  2022-11-24  21:00:00.000  International - FIFA World Cup   2022   \n",
      "4    3857288  2022-11-26  12:00:00.000  International - FIFA World Cup   2022   \n",
      "..       ...         ...           ...                             ...    ...   \n",
      "59   3857265  2022-11-22  18:00:00.000  International - FIFA World Cup   2022   \n",
      "60   3857262  2022-12-02  17:00:00.000  International - FIFA World Cup   2022   \n",
      "61   3857261  2022-11-29  21:00:00.000  International - FIFA World Cup   2022   \n",
      "62   3857255  2022-12-01  21:00:00.000  International - FIFA World Cup   2022   \n",
      "63   3857254  2022-11-22  15:00:00.000  International - FIFA World Cup   2022   \n",
      "\n",
      "      home_team    away_team  home_score  away_score match_status  ...  \\\n",
      "0        Serbia  Switzerland           2           3    available  ...   \n",
      "1     Argentina    Australia           2           1    available  ...   \n",
      "2     Australia      Denmark           1           0    available  ...   \n",
      "3        Brazil       Serbia           2           0    available  ...   \n",
      "4       Tunisia    Australia           0           1    available  ...   \n",
      "..          ...          ...         ...         ...          ...  ...   \n",
      "59       Mexico       Poland           0           0    available  ...   \n",
      "60  South Korea     Portugal           2           1    available  ...   \n",
      "61        Wales      England           0           3    available  ...   \n",
      "62        Japan        Spain           2           1    available  ...   \n",
      "63      Denmark      Tunisia           0           0    available  ...   \n",
      "\n",
      "              last_updated_360 match_week competition_stage  \\\n",
      "0   2023-04-26T23:49:58.956186          3       Group Stage   \n",
      "1   2023-05-14T23:35:15.370647          4       Round of 16   \n",
      "2   2023-06-20T11:04:37.638969          3       Group Stage   \n",
      "3   2023-07-11T14:56:31.096588          1       Group Stage   \n",
      "4   2023-04-27T00:30:07.835815          2       Group Stage   \n",
      "..                         ...        ...               ...   \n",
      "59  2023-04-27T00:49:30.005344          1       Group Stage   \n",
      "60  2023-04-26T23:48:08.999798          3       Group Stage   \n",
      "61  2023-04-27T00:02:44.241621          3       Group Stage   \n",
      "62  2023-04-26T23:51:48.352990          3       Group Stage   \n",
      "63  2023-06-18T10:09:31.314061          1       Group Stage   \n",
      "\n",
      "                                 stadium                         referee  \\\n",
      "0                            Stadium 974       Fernando Andrés Rapallini   \n",
      "1                  Ahmad bin Ali Stadium                Szymon Marciniak   \n",
      "2                   Al Janoub Stadium                   Mustapha Ghorbal   \n",
      "3                         Lusail Stadium                 Alireza Faghani   \n",
      "4                   Al Janoub Stadium                     Daniel Siebert   \n",
      "..                                   ...                             ...   \n",
      "59                           Stadium 974                     Chris Beath   \n",
      "60               Education City Stadium           Facundo Tello Figueroa   \n",
      "61                 Ahmad bin Ali Stadium                   Slavko Vinčić   \n",
      "62  Sheikh Khalifa International Stadium  Victor Miguel de Freitas Gomes   \n",
      "63               Education City Stadium    César Arturo Ramos Palazuelos   \n",
      "\n",
      "               home_managers                              away_managers  \\\n",
      "0           Dragan Stojković                                Murat Yakin   \n",
      "1   Lionel Sebastián Scaloni                        Graham James Arnold   \n",
      "2        Graham James Arnold                            Kasper Hjulmand   \n",
      "3      Telê Santana da Silva                           Dragan Stojković   \n",
      "4                Jalel Kadri                        Graham James Arnold   \n",
      "..                       ...                                        ...   \n",
      "59    Gerardo Daniel Martino                        Czesław Michniewicz   \n",
      "60   Paulo Jorge Gomes Bento  Fernando Manuel Fernandes da Costa Santos   \n",
      "61               Robert Page                           Gareth Southgate   \n",
      "62           Hajime Moriyasu               Luis Enrique Martínez García   \n",
      "63           Kasper Hjulmand                                Jalel Kadri   \n",
      "\n",
      "   data_version shot_fidelity_version xy_fidelity_version  \n",
      "0         1.1.0                     2                   2  \n",
      "1         1.1.0                     2                   2  \n",
      "2         1.1.0                     2                   2  \n",
      "3         1.1.0                     2                   2  \n",
      "4         1.1.0                     2                   2  \n",
      "..          ...                   ...                 ...  \n",
      "59        1.1.0                     2                   2  \n",
      "60        1.1.0                     2                   2  \n",
      "61        1.1.0                     2                   2  \n",
      "62        1.1.0                     2                   2  \n",
      "63        1.1.0                     2                   2  \n",
      "\n",
      "[64 rows x 22 columns]\n"
     ]
    }
   ],
   "source": [
    "competition_id = 43\n",
    "season_id = 106\n",
    "matches = sb.matches(competition_id=competition_id, season_id=season_id)\n",
    "\n",
    "print(matches)"
   ]
  },
  {
   "cell_type": "markdown",
   "metadata": {},
   "source": [
    "## Filtering data France-England\n",
    "\n",
    "The filter is based in: \n",
    "- Team\n",
    "- Type\n",
    "-Second\n",
    "- Minute\n",
    "- Location where the pass is made\n",
    "- Location where the pass finish\n",
    "- The player that has the ball"
   ]
  },
  {
   "cell_type": "code",
   "execution_count": 14,
   "metadata": {},
   "outputs": [
    {
     "name": "stderr",
     "output_type": "stream",
     "text": [
      "c:\\Users\\user\\anaconda3\\Lib\\site-packages\\statsbombpy\\api_client.py:21: NoAuthWarning: credentials were not supplied. open data access only\n",
      "  warnings.warn(\n"
     ]
    },
    {
     "name": "stdout",
     "output_type": "stream",
     "text": [
      "Index(['50_50', 'ball_receipt_outcome', 'ball_recovery_offensive',\n",
      "       'ball_recovery_recovery_failure', 'block_deflection',\n",
      "       'carry_end_location', 'clearance_aerial_won', 'clearance_body_part',\n",
      "       'clearance_head', 'clearance_left_foot', 'clearance_right_foot',\n",
      "       'counterpress', 'dribble_nutmeg', 'dribble_outcome', 'duel_outcome',\n",
      "       'duel_type', 'duration', 'foul_committed_advantage',\n",
      "       'foul_committed_card', 'foul_committed_penalty', 'foul_won_advantage',\n",
      "       'foul_won_defensive', 'foul_won_penalty', 'goalkeeper_body_part',\n",
      "       'goalkeeper_end_location', 'goalkeeper_outcome', 'goalkeeper_position',\n",
      "       'goalkeeper_punched_out', 'goalkeeper_technique', 'goalkeeper_type',\n",
      "       'id', 'index', 'injury_stoppage_in_chain', 'interception_outcome',\n",
      "       'location', 'match_id', 'minute', 'off_camera', 'out',\n",
      "       'pass_aerial_won', 'pass_angle', 'pass_assisted_shot_id',\n",
      "       'pass_body_part', 'pass_cross', 'pass_cut_back', 'pass_deflected',\n",
      "       'pass_end_location', 'pass_goal_assist', 'pass_height',\n",
      "       'pass_inswinging', 'pass_length', 'pass_outcome', 'pass_outswinging',\n",
      "       'pass_recipient', 'pass_shot_assist', 'pass_straight', 'pass_switch',\n",
      "       'pass_technique', 'pass_type', 'period', 'play_pattern', 'player',\n",
      "       'player_id', 'position', 'possession', 'possession_team',\n",
      "       'possession_team_id', 'related_events', 'second', 'shot_aerial_won',\n",
      "       'shot_body_part', 'shot_end_location', 'shot_first_time',\n",
      "       'shot_freeze_frame', 'shot_key_pass_id', 'shot_one_on_one',\n",
      "       'shot_outcome', 'shot_statsbomb_xg', 'shot_technique', 'shot_type',\n",
      "       'substitution_outcome', 'substitution_replacement', 'tactics', 'team',\n",
      "       'team_id', 'timestamp', 'type', 'under_pressure'],\n",
      "      dtype='object')\n",
      "         team            type      pass_outcome  minute  second      location  \\\n",
      "0     England     Starting XI               NaN       0       0           NaN   \n",
      "3     England      Half Start               NaN       0       0           NaN   \n",
      "5     England      Half Start               NaN      45       0           NaN   \n",
      "8     England            Pass               NaN       0       6  [33.8, 48.9]   \n",
      "9     England            Pass  Injury Clearance       0      10  [20.6, 34.8]   \n",
      "...       ...             ...               ...     ...     ...           ...   \n",
      "3233  England    Substitution               NaN      78      51           NaN   \n",
      "3234  England    Substitution               NaN      84      28           NaN   \n",
      "3235  England    Substitution               NaN      97       4           NaN   \n",
      "3237  England           50/50               NaN      92      54  [21.9, 28.1]   \n",
      "3238  England  Tactical Shift               NaN      97      21           NaN   \n",
      "\n",
      "     pass_end_location           player  \n",
      "0                  NaN              NaN  \n",
      "3                  NaN              NaN  \n",
      "5                  NaN              NaN  \n",
      "8         [20.2, 43.7]  Jude Bellingham  \n",
      "9          [14.8, 0.1]    Harry Maguire  \n",
      "...                ...              ...  \n",
      "3233               NaN      Bukayo Saka  \n",
      "3234               NaN     Philip Foden  \n",
      "3235               NaN      John Stones  \n",
      "3237               NaN      Declan Rice  \n",
      "3238               NaN              NaN  \n",
      "\n",
      "[1825 rows x 8 columns]\n"
     ]
    }
   ],
   "source": [
    "match_id = 3869354\n",
    "\n",
    "test_match = sb.events(match_id=match_id)\n",
    "england = test_match[['team', 'type', 'pass_outcome', 'minute', 'second', 'location', 'pass_end_location', 'player']][test_match['team'] == 'England']\n",
    "\n",
    "print(test_match.columns)\n",
    "print(england)"
   ]
  },
  {
   "cell_type": "markdown",
   "metadata": {},
   "source": [
    "## Data from the game available\n",
    "Now it's time to setup a metric to save the passes of each player."
   ]
  },
  {
   "cell_type": "code",
   "execution_count": 111,
   "metadata": {},
   "outputs": [
    {
     "name": "stdout",
     "output_type": "stream",
     "text": [
      "Jude Bellingham\n"
     ]
    },
    {
     "data": {
      "image/png": "[encoded data removed]",
      "text/plain": [
       "<Figure size 640x480 with 1 Axes>"
      ]
     },
     "metadata": {},
     "output_type": "display_data"
    }
   ],
   "source": [
    "# Here I will put data from Jude Bellingham\n",
    "test_player = england[england['player'] == 'Jude Bellingham'].reset_index()\n",
    "\n",
    "# Filtering the correct passes\n",
    "passes_correct = test_player[np.logical_and(pd.isna(test_player['pass_outcome']), test_player['type'] == 'Pass')]\n",
    "passes_general = test_player[test_player['type'] == 'Pass']\n",
    "\n",
    "categories = ['General_Passes', 'Correct_Passes']\n",
    "items = [len(passes_general), len(passes_correct)]\n",
    "\n",
    "\n",
    "# print('Passes Correct:', len(passes_correct), 'Passes in General:', passes_general)\n",
    "plt.bar(categories, items, width=0.6)\n",
    "plt.xlabel(test_player['player'][0])\n",
    "plt.ylabel(test_player['team'][0])\n",
    "\n",
    "print(test_player['player'][0])"
   ]
  }
 ],
 "metadata": {
  "kernelspec": {
   "display_name": "base",
   "language": "python",
   "name": "python3"
  },
  "language_info": {
   "codemirror_mode": {
    "name": "ipython",
    "version": 3
   },
   "file_extension": ".py",
   "mimetype": "text/x-python",
   "name": "python",
   "nbconvert_exporter": "python",
   "pygments_lexer": "ipython3",
   "version": "3.11.3"
  },
  "orig_nbformat": 4
 },
 "nbformat": 4,
 "nbformat_minor": 2
}
