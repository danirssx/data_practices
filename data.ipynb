{
 "cells": [
  {
   "cell_type": "markdown",
   "metadata": {},
   "source": [
    "## Basic Graph containing Passes Data \n",
    "Here I will be testing the API from statsbombpy. "
   ]
  },
  {
   "cell_type": "code",
   "execution_count": 14,
   "metadata": {},
   "outputs": [],
   "source": [
    "# imports \n",
    "import matplotlib.pyplot as plt\n",
    "import pandas as pd\n",
    "import numpy as np"
   ]
  },
  {
   "cell_type": "markdown",
   "metadata": {},
   "source": [
    "Here Comes the data from leagues:"
   ]
  },
  {
   "cell_type": "code",
   "execution_count": 15,
   "metadata": {},
   "outputs": [],
   "source": [
    "from statsbombpy import sb"
   ]
  },
  {
   "cell_type": "code",
   "execution_count": 16,
   "metadata": {},
   "outputs": [],
   "source": [
    "data = {\n",
    "    'x': [2010, 2015, 2020, 2025, 2030],\n",
    "    'y': [1, 2, 3, 4, 5]\n",
    "}"
   ]
  },
  {
   "cell_type": "code",
   "execution_count": 17,
   "metadata": {},
   "outputs": [
    {
     "name": "stdout",
     "output_type": "stream",
     "text": [
      "{'x': [2010, 2015, 2020, 2025, 2030], 'y': [1, 2, 3, 4, 5]}\n"
     ]
    }
   ],
   "source": [
    "print(data)"
   ]
  },
  {
   "cell_type": "markdown",
   "metadata": {},
   "source": [
    "#### Let's Graph the data"
   ]
  },
  {
   "cell_type": "code",
   "execution_count": 18,
   "metadata": {},
   "outputs": [
    {
     "name": "stderr",
     "output_type": "stream",
     "text": [
      "c:\\Users\\user\\anaconda3\\Lib\\site-packages\\statsbombpy\\api_client.py:21: NoAuthWarning: credentials were not supplied. open data access only\n",
      "  warnings.warn(\n"
     ]
    },
    {
     "name": "stdout",
     "output_type": "stream",
     "text": [
      "    competition_id  season_id   country_name    competition_name  \\\n",
      "0                9         27        Germany       1. Bundesliga   \n",
      "1               16          4         Europe    Champions League   \n",
      "2               16          1         Europe    Champions League   \n",
      "3               16          2         Europe    Champions League   \n",
      "4               16         27         Europe    Champions League   \n",
      "..             ...        ...            ...                 ...   \n",
      "60              12         86          Italy             Serie A   \n",
      "61              55         43         Europe           UEFA Euro   \n",
      "62              35         75         Europe  UEFA Europa League   \n",
      "63              53        106         Europe   UEFA Women's Euro   \n",
      "64              72         30  International   Women's World Cup   \n",
      "\n",
      "   competition_gender  competition_youth  competition_international  \\\n",
      "0                male              False                      False   \n",
      "1                male              False                      False   \n",
      "2                male              False                      False   \n",
      "3                male              False                      False   \n",
      "4                male              False                      False   \n",
      "..                ...                ...                        ...   \n",
      "60               male              False                      False   \n",
      "61               male              False                       True   \n",
      "62               male              False                      False   \n",
      "63             female              False                       True   \n",
      "64             female              False                       True   \n",
      "\n",
      "   season_name               match_updated           match_updated_360  \\\n",
      "0    2015/2016  2023-07-25T10:28:52.038697                        None   \n",
      "1    2018/2019  2023-03-07T12:20:48.118250     2021-06-13T16:17:31.694   \n",
      "2    2017/2018  2021-08-27T11:26:39.802832     2021-06-13T16:17:31.694   \n",
      "3    2016/2017  2021-08-27T11:26:39.802832     2021-06-13T16:17:31.694   \n",
      "4    2015/2016  2021-08-27T11:26:39.802832     2021-06-13T16:17:31.694   \n",
      "..         ...                         ...                         ...   \n",
      "60   1986/1987  2023-06-18T01:55:53.343752                        None   \n",
      "61        2020  2023-02-24T21:26:47.128979  2023-04-27T22:38:34.970148   \n",
      "62   1988/1989  2023-06-18T19:28:39.443883     2021-06-13T16:17:31.694   \n",
      "63        2022  2023-07-17T21:19:03.032991  2023-07-17T21:21:56.497106   \n",
      "64        2019  2023-07-27T10:33:48.273734     2021-06-13T16:17:31.694   \n",
      "\n",
      "           match_available_360             match_available  \n",
      "0                         None  2023-07-25T10:28:52.038697  \n",
      "1                         None  2023-03-07T12:20:48.118250  \n",
      "2                         None  2021-01-23T21:55:30.425330  \n",
      "3                         None            2020-07-29T05:00  \n",
      "4                         None            2020-07-29T05:00  \n",
      "..                         ...                         ...  \n",
      "60                        None  2023-06-18T01:55:53.343752  \n",
      "61  2023-04-27T22:38:34.970148  2023-02-24T21:26:47.128979  \n",
      "62                        None  2023-06-18T19:28:39.443883  \n",
      "63  2023-07-17T21:21:56.497106  2023-07-17T21:19:03.032991  \n",
      "64                        None  2023-07-27T10:33:48.273734  \n",
      "\n",
      "[65 rows x 12 columns]\n"
     ]
    }
   ],
   "source": [
    "competitions = sb.competitions()\n",
    "print(competitions)"
   ]
  },
  {
   "cell_type": "markdown",
   "metadata": {},
   "source": [
    "## Matches of the World Cup: "
   ]
  },
  {
   "cell_type": "code",
   "execution_count": 13,
   "metadata": {},
   "outputs": [
    {
     "name": "stderr",
     "output_type": "stream",
     "text": [
      "c:\\Users\\user\\anaconda3\\Lib\\site-packages\\statsbombpy\\api_client.py:21: NoAuthWarning: credentials were not supplied. open data access only\n",
      "  warnings.warn(\n"
     ]
    },
    {
     "name": "stdout",
     "output_type": "stream",
     "text": [
      "    match_id  match_date      kick_off                     competition season  \\\n",
      "0    3857256  2022-12-02  21:00:00.000  International - FIFA World Cup   2022   \n",
      "1    3869151  2022-12-03  21:00:00.000  International - FIFA World Cup   2022   \n",
      "2    3857257  2022-11-30  17:00:00.000  International - FIFA World Cup   2022   \n",
      "3    3857258  2022-11-24  21:00:00.000  International - FIFA World Cup   2022   \n",
      "4    3857288  2022-11-26  12:00:00.000  International - FIFA World Cup   2022   \n",
      "..       ...         ...           ...                             ...    ...   \n",
      "59   3857265  2022-11-22  18:00:00.000  International - FIFA World Cup   2022   \n",
      "60   3857262  2022-12-02  17:00:00.000  International - FIFA World Cup   2022   \n",
      "61   3857261  2022-11-29  21:00:00.000  International - FIFA World Cup   2022   \n",
      "62   3857255  2022-12-01  21:00:00.000  International - FIFA World Cup   2022   \n",
      "63   3857254  2022-11-22  15:00:00.000  International - FIFA World Cup   2022   \n",
      "\n",
      "      home_team    away_team  home_score  away_score match_status  ...  \\\n",
      "0        Serbia  Switzerland           2           3    available  ...   \n",
      "1     Argentina    Australia           2           1    available  ...   \n",
      "2     Australia      Denmark           1           0    available  ...   \n",
      "3        Brazil       Serbia           2           0    available  ...   \n",
      "4       Tunisia    Australia           0           1    available  ...   \n",
      "..          ...          ...         ...         ...          ...  ...   \n",
      "59       Mexico       Poland           0           0    available  ...   \n",
      "60  South Korea     Portugal           2           1    available  ...   \n",
      "61        Wales      England           0           3    available  ...   \n",
      "62        Japan        Spain           2           1    available  ...   \n",
      "63      Denmark      Tunisia           0           0    available  ...   \n",
      "\n",
      "              last_updated_360 match_week competition_stage  \\\n",
      "0   2023-04-26T23:49:58.956186          3       Group Stage   \n",
      "1   2023-05-14T23:35:15.370647          4       Round of 16   \n",
      "2   2023-06-20T11:04:37.638969          3       Group Stage   \n",
      "3   2023-07-11T14:56:31.096588          1       Group Stage   \n",
      "4   2023-04-27T00:30:07.835815          2       Group Stage   \n",
      "..                         ...        ...               ...   \n",
      "59  2023-04-27T00:49:30.005344          1       Group Stage   \n",
      "60  2023-04-26T23:48:08.999798          3       Group Stage   \n",
      "61  2023-04-27T00:02:44.241621          3       Group Stage   \n",
      "62  2023-04-26T23:51:48.352990          3       Group Stage   \n",
      "63  2023-06-18T10:09:31.314061          1       Group Stage   \n",
      "\n",
      "                                 stadium                         referee  \\\n",
      "0                            Stadium 974       Fernando Andrés Rapallini   \n",
      "1                  Ahmad bin Ali Stadium                Szymon Marciniak   \n",
      "2                   Al Janoub Stadium                   Mustapha Ghorbal   \n",
      "3                         Lusail Stadium                 Alireza Faghani   \n",
      "4                   Al Janoub Stadium                     Daniel Siebert   \n",
      "..                                   ...                             ...   \n",
      "59                           Stadium 974                     Chris Beath   \n",
      "60               Education City Stadium           Facundo Tello Figueroa   \n",
      "61                 Ahmad bin Ali Stadium                   Slavko Vinčić   \n",
      "62  Sheikh Khalifa International Stadium  Victor Miguel de Freitas Gomes   \n",
      "63               Education City Stadium    César Arturo Ramos Palazuelos   \n",
      "\n",
      "               home_managers                              away_managers  \\\n",
      "0           Dragan Stojković                                Murat Yakin   \n",
      "1   Lionel Sebastián Scaloni                        Graham James Arnold   \n",
      "2        Graham James Arnold                            Kasper Hjulmand   \n",
      "3      Telê Santana da Silva                           Dragan Stojković   \n",
      "4                Jalel Kadri                        Graham James Arnold   \n",
      "..                       ...                                        ...   \n",
      "59    Gerardo Daniel Martino                        Czesław Michniewicz   \n",
      "60   Paulo Jorge Gomes Bento  Fernando Manuel Fernandes da Costa Santos   \n",
      "61               Robert Page                           Gareth Southgate   \n",
      "62           Hajime Moriyasu               Luis Enrique Martínez García   \n",
      "63           Kasper Hjulmand                                Jalel Kadri   \n",
      "\n",
      "   data_version shot_fidelity_version xy_fidelity_version  \n",
      "0         1.1.0                     2                   2  \n",
      "1         1.1.0                     2                   2  \n",
      "2         1.1.0                     2                   2  \n",
      "3         1.1.0                     2                   2  \n",
      "4         1.1.0                     2                   2  \n",
      "..          ...                   ...                 ...  \n",
      "59        1.1.0                     2                   2  \n",
      "60        1.1.0                     2                   2  \n",
      "61        1.1.0                     2                   2  \n",
      "62        1.1.0                     2                   2  \n",
      "63        1.1.0                     2                   2  \n",
      "\n",
      "[64 rows x 22 columns]\n"
     ]
    }
   ],
   "source": [
    "competition_id = 43\n",
    "season_id = 106\n",
    "matches = sb.matches(competition_id=competition_id, season_id=season_id)\n",
    "\n",
    "print(matches)"
   ]
  },
  {
   "cell_type": "markdown",
   "metadata": {},
   "source": [
    "## Filtering data from players"
   ]
  },
  {
   "cell_type": "code",
   "execution_count": 34,
   "metadata": {},
   "outputs": [
    {
     "name": "stdout",
     "output_type": "stream",
     "text": [
      "                    player_name\n",
      "0                 Memphis Depay\n",
      "1               Vincent Janssen\n",
      "2                    Nathan Aké\n",
      "3                   Daley Blind\n",
      "4               Virgil van Dijk\n",
      "5                 Davy Klaassen\n",
      "6                Marten de Roon\n",
      "7               Steven Berghuis\n",
      "8                Stefan de Vrij\n",
      "9                 Wout Weghorst\n",
      "10                Remko Pasveer\n",
      "11             Teun Koopmeiners\n",
      "12             Matthijs de Ligt\n",
      "13              Frenkie de Jong\n",
      "14               Tyrell Malacia\n",
      "15              Denzel Dumfries\n",
      "16              Steven Bergwijn\n",
      "17              Andries Noppert\n",
      "18                Justin Bijlow\n",
      "19                 Luuk de Jong\n",
      "20            Cody Mathès Gakpo\n",
      "21                     Noa Lang\n",
      "22  Jurriën David Norman Timber\n",
      "23               Kenneth Taylor\n",
      "24             Jeremie Frimpong\n",
      "25                  Xavi Simons 0     10\n",
      "1     18\n",
      "2      5\n",
      "3     17\n",
      "4      4\n",
      "5     14\n",
      "6     15\n",
      "7     11\n",
      "8      6\n",
      "9     19\n",
      "10     1\n",
      "11    20\n",
      "12     3\n",
      "13    21\n",
      "14    16\n",
      "15    22\n",
      "16     7\n",
      "17    23\n",
      "18    13\n",
      "19     9\n",
      "20     8\n",
      "21    12\n",
      "22     2\n",
      "23    24\n",
      "24    26\n",
      "25    25\n",
      "Name: jersey_number, dtype: int64\n"
     ]
    },
    {
     "name": "stderr",
     "output_type": "stream",
     "text": [
      "c:\\Users\\user\\anaconda3\\Lib\\site-packages\\statsbombpy\\api_client.py:21: NoAuthWarning: credentials were not supplied. open data access only\n",
      "  warnings.warn(\n"
     ]
    }
   ],
   "source": [
    "match_id = 3857285\n",
    "\n",
    "lineups = sb.lineups(match_id=match_id)\n",
    "print(lineups['Netherlands'][['player_name']])"
   ]
  }
 ],
 "metadata": {
  "kernelspec": {
   "display_name": "base",
   "language": "python",
   "name": "python3"
  },
  "language_info": {
   "codemirror_mode": {
    "name": "ipython",
    "version": 3
   },
   "file_extension": ".py",
   "mimetype": "text/x-python",
   "name": "python",
   "nbconvert_exporter": "python",
   "pygments_lexer": "ipython3",
   "version": "3.11.3"
  },
  "orig_nbformat": 4
 },
 "nbformat": 4,
 "nbformat_minor": 2
}
